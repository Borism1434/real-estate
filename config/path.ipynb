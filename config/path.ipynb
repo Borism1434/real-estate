{
 "cells": [
  {
   "cell_type": "code",
   "execution_count": 6,
   "id": "0ebf4ccb",
   "metadata": {},
   "outputs": [],
   "source": [
    "import sys\n",
    "import os\n",
    "\n",
    "# Manually define the absolute path to your project root\n",
    "PROJECT_ROOT = \"/Users/borismartinez/Documents/real-estate\"\n",
    "\n",
    "if PROJECT_ROOT not in sys.path:\n",
    "    sys.path.insert(0, PROJECT_ROOT)\n",
    "\n",
    "from config.paths import DATA_DIR, FILENAME_DATE_FORMAT, DEFAULT_EXTRACT_LABEL, PARQUET_ENABLED"
   ]
  }
 ],
 "metadata": {
  "kernelspec": {
   "display_name": ".venv (3.13.5)",
   "language": "python",
   "name": "python3"
  },
  "language_info": {
   "codemirror_mode": {
    "name": "ipython",
    "version": 3
   },
   "file_extension": ".py",
   "mimetype": "text/x-python",
   "name": "python",
   "nbconvert_exporter": "python",
   "pygments_lexer": "ipython3",
   "version": "3.13.5"
  }
 },
 "nbformat": 4,
 "nbformat_minor": 5
}
