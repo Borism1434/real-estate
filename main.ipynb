{
 "cells": [
  {
   "cell_type": "code",
   "execution_count": null,
   "id": "0a55aa6c",
   "metadata": {},
   "outputs": [
    {
     "name": "stdout",
     "output_type": "stream",
     "text": [
      "Saved Parquet version: /Users/borismartinez/Documents/real-estate/data/20251006_extract.parquet\n"
     ]
    },
    {
     "name": "stderr",
     "output_type": "stream",
     "text": [
      "/Users/borismartinez/Documents/real-estate/.venv/lib/python3.13/site-packages/openpyxl/styles/stylesheet.py:237: UserWarning: Workbook contains no default style, apply openpyxl's default\n",
      "  warn(\"Workbook contains no default style, apply openpyxl's default\")\n"
     ]
    },
    {
     "data": {
      "application/vnd.microsoft.datawrangler.viewer.v0+json": {
       "columns": [
        {
         "name": "index",
         "rawType": "int64",
         "type": "integer"
        },
        {
         "name": "Address",
         "rawType": "object",
         "type": "string"
        },
        {
         "name": "Unit #",
         "rawType": "object",
         "type": "unknown"
        },
        {
         "name": "City",
         "rawType": "object",
         "type": "string"
        },
        {
         "name": "State",
         "rawType": "object",
         "type": "string"
        },
        {
         "name": "Zip",
         "rawType": "object",
         "type": "string"
        },
        {
         "name": "County",
         "rawType": "object",
         "type": "string"
        },
        {
         "name": "FIPS",
         "rawType": "object",
         "type": "string"
        },
        {
         "name": "APN",
         "rawType": "object",
         "type": "string"
        },
        {
         "name": "Owner Occupied",
         "rawType": "object",
         "type": "string"
        },
        {
         "name": "Owner 1 First Name",
         "rawType": "object",
         "type": "unknown"
        },
        {
         "name": "Owner 1 Last Name",
         "rawType": "object",
         "type": "string"
        },
        {
         "name": "Owner 2 First Name",
         "rawType": "object",
         "type": "unknown"
        },
        {
         "name": "Owner 2 Last Name",
         "rawType": "object",
         "type": "unknown"
        },
        {
         "name": "Mailing Care of Name",
         "rawType": "object",
         "type": "unknown"
        },
        {
         "name": "Mailing Address",
         "rawType": "object",
         "type": "string"
        },
        {
         "name": "Mailing Unit #",
         "rawType": "object",
         "type": "unknown"
        },
        {
         "name": "Mailing City",
         "rawType": "object",
         "type": "string"
        },
        {
         "name": "Mailing State",
         "rawType": "object",
         "type": "string"
        },
        {
         "name": "Mailing Zip",
         "rawType": "object",
         "type": "string"
        },
        {
         "name": "Mailing Zip+4",
         "rawType": "object",
         "type": "string"
        },
        {
         "name": "Mailing County",
         "rawType": "object",
         "type": "unknown"
        },
        {
         "name": "Property Type",
         "rawType": "object",
         "type": "string"
        },
        {
         "name": "Bedrooms",
         "rawType": "object",
         "type": "string"
        },
        {
         "name": "Total Bathrooms",
         "rawType": "object",
         "type": "string"
        },
        {
         "name": "Building Sqft",
         "rawType": "object",
         "type": "string"
        },
        {
         "name": "Lot Size Sqft",
         "rawType": "object",
         "type": "unknown"
        },
        {
         "name": "Effective Year Built",
         "rawType": "object",
         "type": "string"
        },
        {
         "name": "Vacant",
         "rawType": "object",
         "type": "string"
        },
        {
         "name": "HOA Present",
         "rawType": "object",
         "type": "string"
        },
        {
         "name": "Total Assessed Value",
         "rawType": "object",
         "type": "string"
        },
        {
         "name": "Assessed Improvement Value",
         "rawType": "object",
         "type": "string"
        },
        {
         "name": "Improvement to Tax Value %",
         "rawType": "object",
         "type": "string"
        },
        {
         "name": "Last Sale Date",
         "rawType": "object",
         "type": "string"
        },
        {
         "name": "Last Sale Recording Date",
         "rawType": "object",
         "type": "string"
        },
        {
         "name": "Last Sale Amount",
         "rawType": "object",
         "type": "string"
        },
        {
         "name": "Last Cash Buyer",
         "rawType": "object",
         "type": "string"
        },
        {
         "name": "Prior Sale Date",
         "rawType": "object",
         "type": "string"
        },
        {
         "name": "Prior Sale Amount",
         "rawType": "object",
         "type": "string"
        },
        {
         "name": "Prior Sale Cash Buyer",
         "rawType": "object",
         "type": "string"
        },
        {
         "name": "Loan 1 Date",
         "rawType": "object",
         "type": "string"
        },
        {
         "name": "Loan 1 Balance",
         "rawType": "object",
         "type": "string"
        },
        {
         "name": "Loan 1 Type",
         "rawType": "object",
         "type": "string"
        },
        {
         "name": "Loan 1 Lender",
         "rawType": "object",
         "type": "string"
        },
        {
         "name": "Loan 1 Rate",
         "rawType": "object",
         "type": "string"
        },
        {
         "name": "Loan 1 Rate Type",
         "rawType": "object",
         "type": "unknown"
        },
        {
         "name": "Loan 2 Date",
         "rawType": "object",
         "type": "unknown"
        },
        {
         "name": "Loan 2 Balance",
         "rawType": "object",
         "type": "unknown"
        },
        {
         "name": "Loan 2 Type",
         "rawType": "object",
         "type": "unknown"
        },
        {
         "name": "Loan 2 Lender",
         "rawType": "object",
         "type": "unknown"
        },
        {
         "name": "Loan 2 Rate",
         "rawType": "object",
         "type": "unknown"
        },
        {
         "name": "Loan 2 Rate Type",
         "rawType": "object",
         "type": "unknown"
        },
        {
         "name": "Loan 3 Date",
         "rawType": "object",
         "type": "unknown"
        },
        {
         "name": "Loan 3 Balance",
         "rawType": "object",
         "type": "unknown"
        },
        {
         "name": "Loan 3 Type",
         "rawType": "object",
         "type": "unknown"
        },
        {
         "name": "Loan 3 Lender",
         "rawType": "object",
         "type": "unknown"
        },
        {
         "name": "Loan 3 Rate",
         "rawType": "object",
         "type": "unknown"
        },
        {
         "name": "Loan 3 Rate Type",
         "rawType": "object",
         "type": "unknown"
        },
        {
         "name": "Loan 4 Date",
         "rawType": "object",
         "type": "unknown"
        },
        {
         "name": "Loan 4 Balance",
         "rawType": "object",
         "type": "unknown"
        },
        {
         "name": "Loan 4 Type",
         "rawType": "object",
         "type": "unknown"
        },
        {
         "name": "Loan 4 Lender",
         "rawType": "object",
         "type": "unknown"
        },
        {
         "name": "Loan 4 Rate",
         "rawType": "object",
         "type": "unknown"
        },
        {
         "name": "Loan 4 Rate Type",
         "rawType": "object",
         "type": "unknown"
        },
        {
         "name": "Total Open Loans",
         "rawType": "object",
         "type": "unknown"
        },
        {
         "name": "Est. Remaining balance of Open Loans",
         "rawType": "object",
         "type": "unknown"
        },
        {
         "name": "Est. Value",
         "rawType": "object",
         "type": "string"
        },
        {
         "name": "Est. Loan-to-Value",
         "rawType": "object",
         "type": "unknown"
        },
        {
         "name": "Est. Equity",
         "rawType": "object",
         "type": "unknown"
        },
        {
         "name": "Total Condition",
         "rawType": "object",
         "type": "string"
        },
        {
         "name": "Interior Condition",
         "rawType": "object",
         "type": "string"
        },
        {
         "name": "Exterior Condition",
         "rawType": "object",
         "type": "unknown"
        },
        {
         "name": "Bathroom Condition",
         "rawType": "object",
         "type": "string"
        },
        {
         "name": "Kitchen Condition",
         "rawType": "object",
         "type": "unknown"
        },
        {
         "name": "Foreclosure Factor",
         "rawType": "object",
         "type": "unknown"
        },
        {
         "name": "MLS Status",
         "rawType": "object",
         "type": "string"
        },
        {
         "name": "MLS Date",
         "rawType": "object",
         "type": "string"
        },
        {
         "name": "MLS Amount",
         "rawType": "object",
         "type": "string"
        },
        {
         "name": "MLS Agent Name",
         "rawType": "object",
         "type": "string"
        },
        {
         "name": "MLS Agent Phone",
         "rawType": "object",
         "type": "string"
        },
        {
         "name": "MLS Agent E-Mail",
         "rawType": "object",
         "type": "string"
        },
        {
         "name": "MLS Brokerage Name",
         "rawType": "object",
         "type": "string"
        },
        {
         "name": "MLS Brokerage Phone",
         "rawType": "object",
         "type": "string"
        },
        {
         "name": "Lien Type",
         "rawType": "object",
         "type": "unknown"
        },
        {
         "name": "Lien Date",
         "rawType": "object",
         "type": "unknown"
        },
        {
         "name": "Lien Amount",
         "rawType": "object",
         "type": "unknown"
        },
        {
         "name": "BK Date",
         "rawType": "object",
         "type": "unknown"
        },
        {
         "name": "Divorce Date",
         "rawType": "object",
         "type": "unknown"
        },
        {
         "name": "Pre-FC Recording Date",
         "rawType": "object",
         "type": "unknown"
        },
        {
         "name": "Pre-FC Record Type",
         "rawType": "object",
         "type": "unknown"
        },
        {
         "name": "Pre-FC Lender",
         "rawType": "object",
         "type": "unknown"
        },
        {
         "name": "Pre-FC Doc Number",
         "rawType": "object",
         "type": "unknown"
        },
        {
         "name": "Pre-FC Unpaid Balance",
         "rawType": "object",
         "type": "unknown"
        },
        {
         "name": "Pre-FC Default Amount",
         "rawType": "object",
         "type": "unknown"
        },
        {
         "name": "Pre-FC Auction Date",
         "rawType": "object",
         "type": "unknown"
        },
        {
         "name": "Pre-FC Auction Time",
         "rawType": "object",
         "type": "unknown"
        },
        {
         "name": "Pre-FC Auction Location",
         "rawType": "object",
         "type": "unknown"
        },
        {
         "name": "Pre-FC Auction Opening Bid",
         "rawType": "object",
         "type": "unknown"
        },
        {
         "name": "Pre-FC Trustee-Attorney Name",
         "rawType": "object",
         "type": "unknown"
        },
        {
         "name": "Pre-FC Trustee Ref Number",
         "rawType": "object",
         "type": "unknown"
        },
        {
         "name": "Pre-FC Attorney Case Number",
         "rawType": "object",
         "type": "unknown"
        },
        {
         "name": "Pre-FC Trustee-Attorney Address",
         "rawType": "object",
         "type": "unknown"
        },
        {
         "name": "Pre-FC Borrower 1 Name",
         "rawType": "object",
         "type": "unknown"
        },
        {
         "name": "Marketing Lists",
         "rawType": "object",
         "type": "string"
        },
        {
         "name": "Date Added to List",
         "rawType": "object",
         "type": "string"
        },
        {
         "name": "Method of Add",
         "rawType": "object",
         "type": "string"
        },
        {
         "name": "extract_date",
         "rawType": "object",
         "type": "unknown"
        }
       ],
       "ref": "30e75416-e0ae-4444-a1e9-c507832b95fe",
       "rows": [
        [
         "0",
         "2301 Burnham Ave",
         null,
         "Las Vegas",
         "NV",
         "89104",
         "Clark",
         "32003",
         "162-02-811-011",
         "Yes",
         "Dayalis",
         "Delgado",
         null,
         null,
         "Dayalis Delgado",
         "2301 Burnham Ave",
         null,
         "Las Vegas",
         "NV",
         "89104",
         "3714",
         null,
         "Single Family Residential",
         "3",
         "2",
         "1464",
         null,
         "1979",
         "No",
         "No",
         "60594",
         "30494",
         "0.503",
         "2024-06-18",
         "2024-06-27",
         "430000",
         "No",
         "2022-04-21",
         "357500",
         "No",
         "2024-06-27",
         "416823",
         "FHA",
         "ALL WESTERN MORTGAGE INC",
         "7.02",
         null,
         null,
         null,
         null,
         null,
         null,
         null,
         null,
         null,
         null,
         null,
         null,
         null,
         null,
         null,
         null,
         null,
         null,
         null,
         "1",
         "416823",
         "401000",
         "103.946",
         "-15823",
         "Good",
         "Good",
         "Good",
         "Good",
         null,
         null,
         "PENDING",
         "2024-05-25 00:00:00.0",
         "429000",
         "Patrick Goungo",
         "8884610101",
         "patrickgoungo@gmail.com",
         "Realty ONE Group, Inc",
         "8884610101",
         null,
         null,
         null,
         null,
         null,
         null,
         null,
         null,
         null,
         null,
         null,
         null,
         null,
         null,
         null,
         null,
         null,
         null,
         null,
         null,
         "1",
         "2025-10-06 10:52:43.594815",
         "Manual",
         "2025-10-06"
        ],
        [
         "1",
         "3067 Desmond Ave",
         null,
         "Las Vegas",
         "NV",
         "89121",
         "Clark",
         "32003",
         "162-24-714-038",
         "No",
         null,
         "Marathon Beach Llc",
         null,
         null,
         null,
         "7782 Bear Ridge St",
         null,
         "Las Vegas",
         "NV",
         "89113",
         "4025",
         null,
         "Single Family Residential",
         "3",
         "3",
         "2372",
         null,
         "1976",
         "No",
         "No",
         "73736",
         "38736",
         "0.525",
         "2024-06-26",
         "2024-06-27",
         "370000",
         "Yes",
         "2024-06-25",
         "360000",
         "Yes",
         "2025-01-21",
         "312813",
         "New Conventional",
         "CLEAREDGE LENDING LLC",
         "6.81",
         null,
         null,
         null,
         null,
         null,
         null,
         null,
         null,
         null,
         null,
         null,
         null,
         null,
         null,
         null,
         null,
         null,
         null,
         null,
         "1",
         "312813",
         "415000",
         "75.377",
         "102187",
         "Poor",
         "Poor",
         "Average",
         "Average",
         "Poor",
         null,
         "PENDING",
         "2024-05-25 00:00:00.0",
         "415000",
         "Brenda Bisgard",
         "8884610101",
         "brendabisgard@gmail.com",
         "Realty ONE Group, Inc",
         "8884610101",
         null,
         null,
         null,
         null,
         null,
         null,
         null,
         null,
         null,
         null,
         null,
         null,
         null,
         null,
         null,
         null,
         null,
         null,
         null,
         null,
         "1",
         "2025-10-06 10:52:43.594815",
         "Manual",
         "2025-10-06"
        ],
        [
         "2",
         "4370 Lariat Dr",
         null,
         "Las Vegas",
         "NV",
         "89121",
         "Clark",
         "32003",
         "161-17-410-065",
         "No",
         "Ivy",
         "Bondoc",
         null,
         null,
         "Ivy Bondoc",
         "51 Harry S Truman Dr #14",
         "14",
         "Upper Marlboro",
         "MD",
         "20774",
         "1003",
         null,
         "Single Family Residential",
         "3",
         "2",
         "1456",
         null,
         "1977",
         "No",
         "No",
         "57693",
         "32143",
         "0.557",
         "2012-09-24",
         "2012-10-18",
         "131000",
         "No",
         "2009-11-18",
         "125000",
         "No",
         "2012-10-18",
         "70789",
         "New Conventional",
         "VENTA FINANCIAL GROUP INC",
         "3.52",
         null,
         null,
         null,
         null,
         null,
         null,
         null,
         null,
         null,
         null,
         null,
         null,
         null,
         null,
         null,
         null,
         null,
         null,
         null,
         "1",
         "70789",
         "415000",
         "17.058",
         "344211",
         "Average",
         "Average",
         "Good",
         "Average",
         "Average",
         null,
         "ACTIVE",
         "2024-05-27 00:00:00.0",
         "420000",
         "Joseph de Vera",
         "8884610101",
         "homesandtravelnv@gmail.com",
         "Realty ONE Group, Inc",
         "8884610101",
         null,
         null,
         null,
         null,
         null,
         null,
         null,
         null,
         null,
         null,
         null,
         null,
         null,
         null,
         null,
         null,
         null,
         null,
         null,
         null,
         "1",
         "2025-10-06 10:52:43.594815",
         "Manual",
         "2025-10-06"
        ],
        [
         "3",
         "2820 W Washington Ave",
         null,
         "Las Vegas",
         "NV",
         "89107",
         "Clark",
         "32003",
         "139-29-213-029",
         "Yes",
         "Carlos",
         "Canales",
         "Luz",
         "Martinez",
         "Carlos Canales & Luz Martinez",
         "2820 W Washington Ave",
         null,
         "Las Vegas",
         "NV",
         "89107",
         "2250",
         null,
         "Single Family Residential",
         "4",
         "2",
         "1791",
         null,
         "1954",
         "No",
         "No",
         "60002",
         "28502",
         "0.475",
         "2024-07-12",
         "2024-07-15",
         "360000",
         "No",
         "2023-01-12",
         "215000",
         "No",
         "2024-07-15",
         "320160",
         "New Conventional",
         "ALLIED MORTGAGE GROUP INC",
         "7.03",
         null,
         null,
         null,
         null,
         null,
         null,
         null,
         null,
         null,
         null,
         null,
         null,
         null,
         null,
         null,
         null,
         null,
         null,
         null,
         "1",
         "320160",
         "367000",
         "87.237",
         "46840",
         "Good",
         "Good",
         null,
         "Good",
         "Good",
         null,
         "PENDING",
         "2024-05-28 00:00:00.0",
         "360000",
         "Ashley Zaragoza",
         "7029711844",
         "ashleyzaragoza@kw.com",
         "Keller Williams VIP",
         "7029051110",
         null,
         null,
         null,
         null,
         null,
         null,
         null,
         null,
         null,
         null,
         null,
         null,
         null,
         null,
         null,
         null,
         null,
         null,
         null,
         null,
         "1",
         "2025-10-06 10:52:43.594815",
         "Manual",
         "2025-10-06"
        ],
        [
         "4",
         "4405 Sherrill Ave",
         null,
         "Las Vegas",
         "NV",
         "89110",
         "Clark",
         "32003",
         "140-32-411-058",
         "No",
         "Michelle",
         "Corn",
         null,
         null,
         "Michelle Corn",
         "7241 Girard Dr",
         null,
         "Las Vegas",
         "NV",
         "89147",
         "4026",
         null,
         "Single Family Residential",
         "3",
         "2",
         "1119",
         null,
         "1979",
         "No",
         "No",
         "45151",
         "21701",
         "0.481",
         "2024-07-24",
         "2024-08-09",
         "369999",
         "No",
         "2024-04-23",
         "278000",
         "Yes",
         "2024-08-09",
         "292644",
         "New Conventional",
         "GUARANTEED RATE INC",
         "6.86",
         null,
         null,
         null,
         null,
         null,
         null,
         null,
         null,
         null,
         null,
         null,
         null,
         null,
         null,
         null,
         null,
         null,
         null,
         null,
         null,
         null,
         "352000",
         null,
         null,
         "Good",
         "Good",
         "Average",
         "Good",
         "Good",
         "Very Low",
         "ACTIVE",
         "2024-05-28 00:00:00.0",
         "374999",
         "Jessica Beyer",
         "7024875500",
         "jessicab.precision@gmail.com",
         "Precision Realty",
         "7024875500",
         null,
         null,
         null,
         null,
         null,
         null,
         null,
         null,
         null,
         null,
         null,
         null,
         null,
         null,
         null,
         null,
         null,
         null,
         null,
         null,
         "1",
         "2025-10-06 10:52:43.594815",
         "Manual",
         "2025-10-06"
        ]
       ],
       "shape": {
        "columns": 106,
        "rows": 5
       }
      },
      "text/html": [
       "<div>\n",
       "<style scoped>\n",
       "    .dataframe tbody tr th:only-of-type {\n",
       "        vertical-align: middle;\n",
       "    }\n",
       "\n",
       "    .dataframe tbody tr th {\n",
       "        vertical-align: top;\n",
       "    }\n",
       "\n",
       "    .dataframe thead th {\n",
       "        text-align: right;\n",
       "    }\n",
       "</style>\n",
       "<table border=\"1\" class=\"dataframe\">\n",
       "  <thead>\n",
       "    <tr style=\"text-align: right;\">\n",
       "      <th></th>\n",
       "      <th>Address</th>\n",
       "      <th>Unit #</th>\n",
       "      <th>City</th>\n",
       "      <th>State</th>\n",
       "      <th>Zip</th>\n",
       "      <th>County</th>\n",
       "      <th>FIPS</th>\n",
       "      <th>APN</th>\n",
       "      <th>Owner Occupied</th>\n",
       "      <th>Owner 1 First Name</th>\n",
       "      <th>...</th>\n",
       "      <th>Pre-FC Auction Opening Bid</th>\n",
       "      <th>Pre-FC Trustee-Attorney Name</th>\n",
       "      <th>Pre-FC Trustee Ref Number</th>\n",
       "      <th>Pre-FC Attorney Case Number</th>\n",
       "      <th>Pre-FC Trustee-Attorney Address</th>\n",
       "      <th>Pre-FC Borrower 1 Name</th>\n",
       "      <th>Marketing Lists</th>\n",
       "      <th>Date Added to List</th>\n",
       "      <th>Method of Add</th>\n",
       "      <th>extract_date</th>\n",
       "    </tr>\n",
       "  </thead>\n",
       "  <tbody>\n",
       "    <tr>\n",
       "      <th>0</th>\n",
       "      <td>2301 Burnham Ave</td>\n",
       "      <td>NaN</td>\n",
       "      <td>Las Vegas</td>\n",
       "      <td>NV</td>\n",
       "      <td>89104</td>\n",
       "      <td>Clark</td>\n",
       "      <td>32003</td>\n",
       "      <td>162-02-811-011</td>\n",
       "      <td>Yes</td>\n",
       "      <td>Dayalis</td>\n",
       "      <td>...</td>\n",
       "      <td>NaN</td>\n",
       "      <td>NaN</td>\n",
       "      <td>NaN</td>\n",
       "      <td>NaN</td>\n",
       "      <td>NaN</td>\n",
       "      <td>NaN</td>\n",
       "      <td>1</td>\n",
       "      <td>2025-10-06 10:52:43.594815</td>\n",
       "      <td>Manual</td>\n",
       "      <td>2025-10-06</td>\n",
       "    </tr>\n",
       "    <tr>\n",
       "      <th>1</th>\n",
       "      <td>3067 Desmond Ave</td>\n",
       "      <td>NaN</td>\n",
       "      <td>Las Vegas</td>\n",
       "      <td>NV</td>\n",
       "      <td>89121</td>\n",
       "      <td>Clark</td>\n",
       "      <td>32003</td>\n",
       "      <td>162-24-714-038</td>\n",
       "      <td>No</td>\n",
       "      <td>NaN</td>\n",
       "      <td>...</td>\n",
       "      <td>NaN</td>\n",
       "      <td>NaN</td>\n",
       "      <td>NaN</td>\n",
       "      <td>NaN</td>\n",
       "      <td>NaN</td>\n",
       "      <td>NaN</td>\n",
       "      <td>1</td>\n",
       "      <td>2025-10-06 10:52:43.594815</td>\n",
       "      <td>Manual</td>\n",
       "      <td>2025-10-06</td>\n",
       "    </tr>\n",
       "    <tr>\n",
       "      <th>2</th>\n",
       "      <td>4370 Lariat Dr</td>\n",
       "      <td>NaN</td>\n",
       "      <td>Las Vegas</td>\n",
       "      <td>NV</td>\n",
       "      <td>89121</td>\n",
       "      <td>Clark</td>\n",
       "      <td>32003</td>\n",
       "      <td>161-17-410-065</td>\n",
       "      <td>No</td>\n",
       "      <td>Ivy</td>\n",
       "      <td>...</td>\n",
       "      <td>NaN</td>\n",
       "      <td>NaN</td>\n",
       "      <td>NaN</td>\n",
       "      <td>NaN</td>\n",
       "      <td>NaN</td>\n",
       "      <td>NaN</td>\n",
       "      <td>1</td>\n",
       "      <td>2025-10-06 10:52:43.594815</td>\n",
       "      <td>Manual</td>\n",
       "      <td>2025-10-06</td>\n",
       "    </tr>\n",
       "    <tr>\n",
       "      <th>3</th>\n",
       "      <td>2820 W Washington Ave</td>\n",
       "      <td>NaN</td>\n",
       "      <td>Las Vegas</td>\n",
       "      <td>NV</td>\n",
       "      <td>89107</td>\n",
       "      <td>Clark</td>\n",
       "      <td>32003</td>\n",
       "      <td>139-29-213-029</td>\n",
       "      <td>Yes</td>\n",
       "      <td>Carlos</td>\n",
       "      <td>...</td>\n",
       "      <td>NaN</td>\n",
       "      <td>NaN</td>\n",
       "      <td>NaN</td>\n",
       "      <td>NaN</td>\n",
       "      <td>NaN</td>\n",
       "      <td>NaN</td>\n",
       "      <td>1</td>\n",
       "      <td>2025-10-06 10:52:43.594815</td>\n",
       "      <td>Manual</td>\n",
       "      <td>2025-10-06</td>\n",
       "    </tr>\n",
       "    <tr>\n",
       "      <th>4</th>\n",
       "      <td>4405 Sherrill Ave</td>\n",
       "      <td>NaN</td>\n",
       "      <td>Las Vegas</td>\n",
       "      <td>NV</td>\n",
       "      <td>89110</td>\n",
       "      <td>Clark</td>\n",
       "      <td>32003</td>\n",
       "      <td>140-32-411-058</td>\n",
       "      <td>No</td>\n",
       "      <td>Michelle</td>\n",
       "      <td>...</td>\n",
       "      <td>NaN</td>\n",
       "      <td>NaN</td>\n",
       "      <td>NaN</td>\n",
       "      <td>NaN</td>\n",
       "      <td>NaN</td>\n",
       "      <td>NaN</td>\n",
       "      <td>1</td>\n",
       "      <td>2025-10-06 10:52:43.594815</td>\n",
       "      <td>Manual</td>\n",
       "      <td>2025-10-06</td>\n",
       "    </tr>\n",
       "  </tbody>\n",
       "</table>\n",
       "<p>5 rows × 106 columns</p>\n",
       "</div>"
      ],
      "text/plain": [
       "                 Address Unit #       City State    Zip County   FIPS  \\\n",
       "0       2301 Burnham Ave    NaN  Las Vegas    NV  89104  Clark  32003   \n",
       "1       3067 Desmond Ave    NaN  Las Vegas    NV  89121  Clark  32003   \n",
       "2         4370 Lariat Dr    NaN  Las Vegas    NV  89121  Clark  32003   \n",
       "3  2820 W Washington Ave    NaN  Las Vegas    NV  89107  Clark  32003   \n",
       "4      4405 Sherrill Ave    NaN  Las Vegas    NV  89110  Clark  32003   \n",
       "\n",
       "              APN Owner Occupied Owner 1 First Name  ...  \\\n",
       "0  162-02-811-011            Yes            Dayalis  ...   \n",
       "1  162-24-714-038             No                NaN  ...   \n",
       "2  161-17-410-065             No                Ivy  ...   \n",
       "3  139-29-213-029            Yes             Carlos  ...   \n",
       "4  140-32-411-058             No           Michelle  ...   \n",
       "\n",
       "  Pre-FC Auction Opening Bid Pre-FC Trustee-Attorney Name  \\\n",
       "0                        NaN                          NaN   \n",
       "1                        NaN                          NaN   \n",
       "2                        NaN                          NaN   \n",
       "3                        NaN                          NaN   \n",
       "4                        NaN                          NaN   \n",
       "\n",
       "  Pre-FC Trustee Ref Number Pre-FC Attorney Case Number  \\\n",
       "0                       NaN                         NaN   \n",
       "1                       NaN                         NaN   \n",
       "2                       NaN                         NaN   \n",
       "3                       NaN                         NaN   \n",
       "4                       NaN                         NaN   \n",
       "\n",
       "  Pre-FC Trustee-Attorney Address Pre-FC Borrower 1 Name Marketing Lists  \\\n",
       "0                             NaN                    NaN               1   \n",
       "1                             NaN                    NaN               1   \n",
       "2                             NaN                    NaN               1   \n",
       "3                             NaN                    NaN               1   \n",
       "4                             NaN                    NaN               1   \n",
       "\n",
       "           Date Added to List Method of Add extract_date  \n",
       "0  2025-10-06 10:52:43.594815        Manual   2025-10-06  \n",
       "1  2025-10-06 10:52:43.594815        Manual   2025-10-06  \n",
       "2  2025-10-06 10:52:43.594815        Manual   2025-10-06  \n",
       "3  2025-10-06 10:52:43.594815        Manual   2025-10-06  \n",
       "4  2025-10-06 10:52:43.594815        Manual   2025-10-06  \n",
       "\n",
       "[5 rows x 106 columns]"
      ]
     },
     "execution_count": 1,
     "metadata": {},
     "output_type": "execute_result"
    }
   ],
   "source": [
    "from etl.extract import load_latest_xlsx_by_modified_date\n",
    "\n",
    "df = load_latest_xlsx_by_modified_date()\n",
    "df.head()\n",
    "\n",
    "# from etl.extract import load_all_extracts\n",
    "# df = load_all_extracts()"
   ]
  },
  {
   "cell_type": "code",
   "execution_count": 3,
   "id": "203a089d",
   "metadata": {},
   "outputs": [
    {
     "name": "stderr",
     "output_type": "stream",
     "text": [
      "/Users/borismartinez/Documents/real-estate/etl/transform.py:67: FutureWarning: Downcasting behavior in `replace` is deprecated and will be removed in a future version. To retain the old behavior, explicitly call `result.infer_objects(copy=False)`. To opt-in to the future behavior, set `pd.set_option('future.no_silent_downcasting', True)`\n",
      "  df.replace(r\"^\\s*$\", np.nan, regex=True, inplace=True)\n",
      "/Users/borismartinez/Documents/real-estate/etl/transform.py:113: FutureWarning: DataFrame.applymap has been deprecated. Use DataFrame.map instead.\n",
      "  df = df.applymap(lambda x: \"\" if x is None else x)\n"
     ]
    }
   ],
   "source": [
    "from etl.transform import clean_raw_dataframe\n",
    "\n",
    "df_clean = clean_raw_dataframe(df)"
   ]
  },
  {
   "cell_type": "code",
   "execution_count": null,
   "id": "b896f78f",
   "metadata": {},
   "outputs": [
    {
     "name": "stdout",
     "output_type": "stream",
     "text": [
      "✅ Loaded 7678 rows into stg.prop_extract\n",
      "✅ Loaded 7678 rows into stg.prop_extract\n"
     ]
    }
   ],
   "source": [
    "from etl.loader import load_dataframe\n",
    "\n",
    "load_dataframe(\n",
    "    df = df_clean,\n",
    "    table_name=\"prop_extract\",\n",
    "    schema=\"stg\",\n",
    "    data_dir=\"/Users/borismartinez/Documents/real-estate/data\",\n",
    "    load_mode=\"recent\"\n",
    ")\n"
   ]
  }
 ],
 "metadata": {
  "kernelspec": {
   "display_name": ".venv (3.13.5)",
   "language": "python",
   "name": "python3"
  },
  "language_info": {
   "codemirror_mode": {
    "name": "ipython",
    "version": 3
   },
   "file_extension": ".py",
   "mimetype": "text/x-python",
   "name": "python",
   "nbconvert_exporter": "python",
   "pygments_lexer": "ipython3",
   "version": "3.13.5"
  }
 },
 "nbformat": 4,
 "nbformat_minor": 5
}
